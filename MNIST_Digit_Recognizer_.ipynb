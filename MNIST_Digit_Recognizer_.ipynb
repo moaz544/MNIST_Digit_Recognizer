{
 "cells": [
  {
   "cell_type": "code",
   "execution_count": 9,
   "metadata": {},
   "outputs": [
    {
     "name": "stdout",
     "output_type": "stream",
     "text": [
      "Note: you may need to restart the kernel to use updated packages.\n"
     ]
    },
    {
     "name": "stderr",
     "output_type": "stream",
     "text": [
      "ERROR: Could not find a version that satisfies the requirement upgrade (from versions: none)\n",
      "ERROR: No matching distribution found for upgrade\n"
     ]
    }
   ],
   "source": [
    "\n",
    "pip install upgrade tensorflow"
   ]
  },
  {
   "cell_type": "code",
   "execution_count": null,
   "metadata": {},
   "outputs": [],
   "source": [
    "pip install pywrap"
   ]
  },
  {
   "cell_type": "markdown",
   "metadata": {
    "colab_type": "text",
    "id": "RyEkldEOAmYl"
   },
   "source": []
  },
  {
   "cell_type": "code",
   "execution_count": 1,
   "metadata": {
    "colab": {
     "base_uri": "https://localhost:8080/",
     "height": 80
    },
    "colab_type": "code",
    "executionInfo": {
     "elapsed": 4100,
     "status": "ok",
     "timestamp": 1583863149928,
     "user": {
      "displayName": "CHANDAN PATRA",
      "photoUrl": "https://lh3.googleusercontent.com/a-/AOh14GgztnbuP6iBQWXWO8NjIu-vEwtwRh0udTE34fPm=s64",
      "userId": "08536261493125902972"
     },
     "user_tz": -330
    },
    "id": "RgbWtbM04MNv",
    "outputId": "0f01b3d6-e3e2-4eb3-d0b2-12d877ab2c66"
   },
   "outputs": [],
   "source": [
    "#importing the libraries\n",
    "from keras.models import Sequential\n",
    "from keras.layers import Dense, Conv2D, Flatten, MaxPool2D\n",
    "from keras.datasets import mnist\n",
    "from keras.utils import to_categorical\n",
    "import numpy as np\n",
    "import matplotlib.pyplot as plt"
   ]
  },
  {
   "cell_type": "code",
   "execution_count": 21,
   "metadata": {
    "colab": {
     "base_uri": "https://localhost:8080/",
     "height": 51
    },
    "colab_type": "code",
    "executionInfo": {
     "elapsed": 6856,
     "status": "ok",
     "timestamp": 1583863152695,
     "user": {
      "displayName": "CHANDAN PATRA",
      "photoUrl": "https://lh3.googleusercontent.com/a-/AOh14GgztnbuP6iBQWXWO8NjIu-vEwtwRh0udTE34fPm=s64",
      "userId": "08536261493125902972"
     },
     "user_tz": -330
    },
    "id": "DO-kvPRV4WVF",
    "outputId": "b58b9377-fc94-4086-e3fd-70ae9b2b7caf"
   },
   "outputs": [],
   "source": [
    "#Load the data and split it into train and test \n",
    "(X_train, y_train), (X_test, y_test) = mnist.load_data()\n",
    "\n"
   ]
  },
  {
   "cell_type": "code",
   "execution_count": 36,
   "metadata": {},
   "outputs": [],
   "source": [
    "\n",
    "#make normalize \n",
    "X_train=X_train/255\n",
    "\n",
    "\n",
    "X_test=X_test/255\n"
   ]
  },
  {
   "cell_type": "code",
   "execution_count": 37,
   "metadata": {
    "colab": {
     "base_uri": "https://localhost:8080/",
     "height": 51
    },
    "colab_type": "code",
    "executionInfo": {
     "elapsed": 6835,
     "status": "ok",
     "timestamp": 1583863152699,
     "user": {
      "displayName": "CHANDAN PATRA",
      "photoUrl": "https://lh3.googleusercontent.com/a-/AOh14GgztnbuP6iBQWXWO8NjIu-vEwtwRh0udTE34fPm=s64",
      "userId": "08536261493125902972"
     },
     "user_tz": -330
    },
    "id": "AkKf7oBS5Aa9",
    "outputId": "705584ad-e02f-4c68-f017-21f56226928b"
   },
   "outputs": [
    {
     "name": "stdout",
     "output_type": "stream",
     "text": [
      "(60000, 28, 28, 1)\n",
      "(10000, 28, 28, 1)\n"
     ]
    }
   ],
   "source": [
    "#Get the image shape\n",
    "print(X_train.shape)\n",
    "print(X_test.shape)"
   ]
  },
  {
   "cell_type": "code",
   "execution_count": 38,
   "metadata": {
    "colab": {
     "base_uri": "https://localhost:8080/",
     "height": 282
    },
    "colab_type": "code",
    "executionInfo": {
     "elapsed": 8215,
     "status": "ok",
     "timestamp": 1583863154099,
     "user": {
      "displayName": "CHANDAN PATRA",
      "photoUrl": "https://lh3.googleusercontent.com/a-/AOh14GgztnbuP6iBQWXWO8NjIu-vEwtwRh0udTE34fPm=s64",
      "userId": "08536261493125902972"
     },
     "user_tz": -330
    },
    "id": "XTaLwzMl5jxL",
    "outputId": "059106bb-3041-417b-ebd8-750c2a6da9dc"
   },
   "outputs": [
    {
     "data": {
      "text/plain": [
       "<matplotlib.image.AxesImage at 0x20187fd8400>"
      ]
     },
     "execution_count": 38,
     "metadata": {},
     "output_type": "execute_result"
    },
    {
     "data": {
      "image/png": "[encoded data removed]",
      "text/plain": [
       "<Figure size 432x288 with 1 Axes>"
      ]
     },
     "metadata": {
      "needs_background": "light"
     },
     "output_type": "display_data"
    }
   ],
   "source": [
    "plt.imshow(X_train[2])"
   ]
  },
  {
   "cell_type": "code",
   "execution_count": 39,
   "metadata": {
    "colab": {},
    "colab_type": "code",
    "id": "Gk8hOnqP6FUg"
   },
   "outputs": [],
   "source": [
    "# Reshaping the data to fit the model\n",
    "X_train = X_train.reshape(60000, 28, 28, 1)\n",
    "X_test = X_test.reshape(10000, 28, 28, 1)"
   ]
  },
  {
   "cell_type": "code",
   "execution_count": 40,
   "metadata": {
    "colab": {
     "base_uri": "https://localhost:8080/",
     "height": 34
    },
    "colab_type": "code",
    "executionInfo": {
     "elapsed": 3418,
     "status": "ok",
     "timestamp": 1583863167349,
     "user": {
      "displayName": "CHANDAN PATRA",
      "photoUrl": "https://lh3.googleusercontent.com/a-/AOh14GgztnbuP6iBQWXWO8NjIu-vEwtwRh0udTE34fPm=s64",
      "userId": "08536261493125902972"
     },
     "user_tz": -330
    },
    "id": "IXWzl77d9Ey5",
    "outputId": "7c2a038b-a77f-4b94-d9d4-a5c7f1a4f4d4"
   },
   "outputs": [
    {
     "name": "stdout",
     "output_type": "stream",
     "text": [
      "[0. 0. 0. 0. 0. 1. 0. 0. 0. 0.]\n"
     ]
    }
   ],
   "source": [
    "# One-Hot Encoding:\n",
    "y_train_one_hot = to_categorical(y_train)\n",
    "y_test_one_hot = to_categorical(y_test)\n",
    "\n",
    "# Print the new label\n",
    "print(y_train_one_hot[0])"
   ]
  },
  {
   "cell_type": "code",
   "execution_count": 42,
   "metadata": {
    "colab": {
     "base_uri": "https://localhost:8080/",
     "height": 173
    },
    "colab_type": "code",
    "executionInfo": {
     "elapsed": 2654,
     "status": "ok",
     "timestamp": 1583863167351,
     "user": {
      "displayName": "CHANDAN PATRA",
      "photoUrl": "https://lh3.googleusercontent.com/a-/AOh14GgztnbuP6iBQWXWO8NjIu-vEwtwRh0udTE34fPm=s64",
      "userId": "08536261493125902972"
     },
     "user_tz": -330
    },
    "id": "KlfHakpJ-KUn",
    "outputId": "d1f2eaed-860d-4350-847e-8839578f0430"
   },
   "outputs": [],
   "source": [
    "# Build the CNN model\n",
    "model_normalize = Sequential()\n",
    "# Add model layers\n",
    "model_normalize.add(Conv2D(64, kernel_size=3, activation = 'relu', input_shape=(28,28,1)))\n",
    "model_normalize.add(Conv2D(32, kernel_size=3, activation='relu'))\n",
    "model_normalize.add(MaxPool2D(pool_size=(2, 2), strides=None, padding='valid', data_format=None))\n",
    "model_normalize.add(Flatten())\n",
    "model_normalize.add(Dense(10,activation='softmax'))"
   ]
  },
  {
   "cell_type": "code",
   "execution_count": 43,
   "metadata": {
    "colab": {
     "base_uri": "https://localhost:8080/",
     "height": 105
    },
    "colab_type": "code",
    "executionInfo": {
     "elapsed": 3604,
     "status": "ok",
     "timestamp": 1583863169223,
     "user": {
      "displayName": "CHANDAN PATRA",
      "photoUrl": "https://lh3.googleusercontent.com/a-/AOh14GgztnbuP6iBQWXWO8NjIu-vEwtwRh0udTE34fPm=s64",
      "userId": "08536261493125902972"
     },
     "user_tz": -330
    },
    "id": "ORQrXRmk_wk8",
    "outputId": "228c4ef2-d486-4fc6-ffc3-6b587a60b520"
   },
   "outputs": [],
   "source": [
    "model_normalize.compile(optimizer='adam', loss='categorical_crossentropy', metrics=['accuracy'])"
   ]
  },
  {
   "cell_type": "code",
   "execution_count": 46,
   "metadata": {},
   "outputs": [
    {
     "name": "stdout",
     "output_type": "stream",
     "text": [
      "Epoch 1/5\n",
      "1875/1875 [==============================] - 161s 86ms/step - loss: 0.0500 - accuracy: 0.9850 - val_loss: 0.0463 - val_accuracy: 0.9848\n",
      "Epoch 2/5\n",
      "1875/1875 [==============================] - 155s 83ms/step - loss: 0.0359 - accuracy: 0.9890 - val_loss: 0.0417 - val_accuracy: 0.9854\n",
      "Epoch 3/5\n",
      "1875/1875 [==============================] - 158s 84ms/step - loss: 0.0266 - accuracy: 0.9914 - val_loss: 0.0380 - val_accuracy: 0.9877\n",
      "Epoch 4/5\n",
      "1875/1875 [==============================] - 157s 84ms/step - loss: 0.0196 - accuracy: 0.9939 - val_loss: 0.0452 - val_accuracy: 0.9874\n",
      "Epoch 5/5\n",
      "1875/1875 [==============================] - 157s 84ms/step - loss: 0.0157 - accuracy: 0.9950 - val_loss: 0.0464 - val_accuracy: 0.9868\n"
     ]
    }
   ],
   "source": [
    "#Train the model with normalize\n",
    "hist = model_normalize.fit(X_train,y_train_one_hot, validation_data=(X_test,y_test_one_hot), epochs=5)"
   ]
  },
  {
   "cell_type": "code",
   "execution_count": 47,
   "metadata": {},
   "outputs": [
    {
     "name": "stdout",
     "output_type": "stream",
     "text": [
      "313/313 [==============================] - 7s 21ms/step - loss: 0.0464 - accuracy: 0.9868\n",
      "Test accuracy: 98.68000149726868 %\n"
     ]
    }
   ],
   "source": [
    "loss, accuracy = model_normalize.evaluate(X_test,y_test_one_hot)\n",
    "print('Test accuracy:' , accuracy * 100,'%')"
   ]
  },
  {
   "cell_type": "code",
   "execution_count": null,
   "metadata": {},
   "outputs": [],
   "source": [
    "#model without normalition"
   ]
  },
  {
   "cell_type": "code",
   "execution_count": 28,
   "metadata": {
    "colab": {},
    "colab_type": "code",
    "id": "DAxGwNeAAesx"
   },
   "outputs": [],
   "source": [
    "#Train the model without normalize\n",
    "# Build the CNN model\n",
    "model = Sequential()\n",
    "# Add model layers\n",
    "model.add(Conv2D(64, kernel_size=3, activation = 'relu', input_shape=(28,28,1)))\n",
    "model.add(Conv2D(32, kernel_size=3, activation='relu'))\n",
    "model.add(MaxPool2D(pool_size=(2, 2), strides=None, padding='valid', data_format=None))\n",
    "model.add(Flatten())\n",
    "model.add(Dense(10,activation='softmax'))"
   ]
  },
  {
   "cell_type": "code",
   "execution_count": 29,
   "metadata": {},
   "outputs": [],
   "source": [
    "model.compile(optimizer='adam', loss='categorical_crossentropy', metrics=['accuracy'])"
   ]
  },
  {
   "cell_type": "code",
   "execution_count": 30,
   "metadata": {
    "scrolled": true
   },
   "outputs": [
    {
     "name": "stdout",
     "output_type": "stream",
     "text": [
      "Epoch 1/5\n",
      "1875/1875 [==============================] - 189s 100ms/step - loss: 0.2639 - accuracy: 0.9495 - val_loss: 0.0795 - val_accuracy: 0.9752\n",
      "Epoch 2/5\n",
      "1875/1875 [==============================] - 176s 94ms/step - loss: 0.0771 - accuracy: 0.9759 - val_loss: 0.0731 - val_accuracy: 0.9776\n",
      "Epoch 3/5\n",
      "1875/1875 [==============================] - 172s 92ms/step - loss: 0.0559 - accuracy: 0.9827 - val_loss: 0.0732 - val_accuracy: 0.9796\n",
      "Epoch 4/5\n",
      "1875/1875 [==============================] - 163s 87ms/step - loss: 0.0464 - accuracy: 0.9852 - val_loss: 0.0716 - val_accuracy: 0.9791\n",
      "Epoch 5/5\n",
      "1875/1875 [==============================] - 160s 85ms/step - loss: 0.0390 - accuracy: 0.9879 - val_loss: 0.0783 - val_accuracy: 0.9808\n"
     ]
    }
   ],
   "source": [
    "hist = model.fit(X_train,y_train_one_hot, validation_data=(X_test,y_test_one_hot), epochs=5)"
   ]
  },
  {
   "cell_type": "code",
   "execution_count": 34,
   "metadata": {},
   "outputs": [
    {
     "name": "stdout",
     "output_type": "stream",
     "text": [
      "313/313 [==============================] - 7s 22ms/step - loss: 0.0783 - accuracy: 0.9808\n",
      "Test accuracy: 98.07999730110168 %\n"
     ]
    }
   ],
   "source": [
    "loss, accuracy = model.evaluate(X_test,y_test_one_hot)\n",
    "print('Test accuracy:' , accuracy * 100,'%')"
   ]
  },
  {
   "cell_type": "code",
   "execution_count": null,
   "metadata": {},
   "outputs": [],
   "source": [
    "#"
   ]
  }
 ],
 "metadata": {
  "accelerator": "GPU",
  "colab": {
   "authorship_tag": "ABX9TyMyhvtAYIZIpDu3JU+XlN2p",
   "collapsed_sections": [],
   "name": "MNIST_Digit_Recognizer.ipynb",
   "provenance": []
  },
  "kernelspec": {
   "display_name": "Python 3 (ipykernel)",
   "language": "python",
   "name": "python3"
  },
  "language_info": {
   "codemirror_mode": {
    "name": "ipython",
    "version": 3
   },
   "file_extension": ".py",
   "mimetype": "text/x-python",
   "name": "python",
   "nbconvert_exporter": "python",
   "pygments_lexer": "ipython3",
   "version": "3.9.12"
  }
 },
 "nbformat": 4,
 "nbformat_minor": 1
}
